{
 "cells": [
  {
   "cell_type": "markdown",
   "id": "f9ed802f",
   "metadata": {},
   "source": [
    "# Valorant dataset extracter and cleaner\n",
    "\n",
    "This is used to extracted the zip files of valorant esports data scrapped from vlr.gg and clean or format the dataset.\n",
    "\n"
   ]
  },
  {
   "cell_type": "code",
   "execution_count": 1,
   "id": "f9103852",
   "metadata": {},
   "outputs": [],
   "source": [
    "import pandas as pd\n",
    "import os\n",
    "import zipfile\n",
    "pd.set_option('display.max_columns', None)"
   ]
  },
  {
   "cell_type": "markdown",
   "id": "2e0e3b76",
   "metadata": {},
   "source": [
    "### Select the zip files you want to extract\n",
    "Select the zip files which you want to extract from Zip_files folder"
   ]
  },
  {
   "cell_type": "code",
   "execution_count": null,
   "id": "462083c6",
   "metadata": {},
   "outputs": [
    {
     "data": {
      "application/vnd.jupyter.widget-view+json": {
       "model_id": "ec3bcfd44405400fbfbc1b31d938d969",
       "version_major": 2,
       "version_minor": 0
      },
      "text/plain": [
       "VBox(children=(Checkbox(value=False, description='Valorant Masters Bangkok 2025_csvs.zip'), Checkbox(value=Fal…"
      ]
     },
     "metadata": {},
     "output_type": "display_data"
    },
    {
     "data": {
      "application/vnd.jupyter.widget-view+json": {
       "model_id": "a16e9dfc237b4c6c860db30840ab65b5",
       "version_major": 2,
       "version_minor": 0
      },
      "text/plain": [
       "Button(button_style='success', description='Process Selected Zips', style=ButtonStyle())"
      ]
     },
     "metadata": {},
     "output_type": "display_data"
    },
    {
     "data": {
      "application/vnd.jupyter.widget-view+json": {
       "model_id": "c7835cdc68b542caa22e0cec61e217e6",
       "version_major": 2,
       "version_minor": 0
      },
      "text/plain": [
       "Output()"
      ]
     },
     "metadata": {},
     "output_type": "display_data"
    }
   ],
   "source": [
    "import ipywidgets as widgets\n",
    "from IPython.display import display\n",
    "\n",
    "# Folder containing zip files\n",
    "zip_folder = \"zip_files\"\n",
    "\n",
    "# Get all .zip files from the folder\n",
    "zip_files = [f for f in os.listdir(zip_folder) if f.endswith(\".zip\")]\n",
    "\n",
    "# Create a checkbox for each zip file\n",
    "checkboxes = [widgets.Checkbox(value=False, description=f) for f in zip_files]\n",
    "\n",
    "# Create a button for processing selected files\n",
    "select_button = widgets.Button(description=\"Process Selected Zips\", button_style=\"success\")\n",
    "\n",
    "# Output box to show results/messages\n",
    "output = widgets.Output()\n",
    "\n",
    "# Function to run when button is clicked\n",
    "def on_button_click(b):\n",
    "    global selected_files\n",
    "    with output:  # Redirect prints to output box\n",
    "        output.clear_output()  # Clear previous output\n",
    "        # Get list of files where checkbox is ticked\n",
    "        selected_files = [cb.description for cb in checkboxes if cb.value]\n",
    "        if selected_files:\n",
    "            print(\"Selected zip files for processing:\")\n",
    "            for f in selected_files:\n",
    "                print(\"-\", f)\n",
    "        else:\n",
    "            print(\"No zip files selected.\")\n",
    "\n",
    "# Attach the function to button click event\n",
    "select_button.on_click(on_button_click)\n",
    "\n",
    "# Show checkboxes, button, and output area in notebook\n",
    "display(widgets.VBox(checkboxes), select_button, output)\n"
   ]
  },
  {
   "cell_type": "markdown",
   "id": "52f4844e",
   "metadata": {},
   "source": [
    "### Extract the select zip fils in \"Output\" folder"
   ]
  },
  {
   "cell_type": "code",
   "execution_count": 4,
   "id": "193d90b5",
   "metadata": {},
   "outputs": [
    {
     "name": "stdout",
     "output_type": "stream",
     "text": [
      "Extracting selected zip files:\n",
      "\n",
      "✔ Extracted: Valorant Masters Bangkok 2025_csvs.zip → Output\\Valorant Masters Bangkok 2025_csvs\n"
     ]
    }
   ],
   "source": [
    "print(\"Extracting selected zip files:\\n\")\n",
    "\n",
    "output_folder = \"Output\"\n",
    "# Loop through each file in the list of selected zip files\n",
    "for f in selected_files:\n",
    "    # Build the full path to the current zip file\n",
    "    zip_path = os.path.join(zip_folder, f)\n",
    "    \n",
    "    # Create a unique output folder for this zip file (removes .zip extension)\n",
    "    extract_path = os.path.join(output_folder, os.path.splitext(f)[0])\n",
    "    os.makedirs(extract_path, exist_ok=True)  # Create folder if it doesn’t exist\n",
    "    \n",
    "    # Open the zip file in read mode and extract its contents\n",
    "    with zipfile.ZipFile(zip_path, 'r') as zip_ref:\n",
    "        zip_ref.extractall(extract_path)   \n",
    "\n",
    "    print(f\"✔ Extracted: {f} → {extract_path}\")"
   ]
  },
  {
   "cell_type": "markdown",
   "id": "726385eb",
   "metadata": {},
   "source": [
    "### Load the csv files into respective dataframes"
   ]
  },
  {
   "cell_type": "code",
   "execution_count": 5,
   "id": "c55b497e",
   "metadata": {},
   "outputs": [],
   "source": [
    "def load_csv(extract_path):\n",
    "    detailed_matches_overview_df = pd.read_csv(os.path.join(extract_path,\"detailed_matches_overview.csv\"))\n",
    "    matches_df = pd.read_csv(os.path.join(extract_path,\"matches.csv\"))\n",
    "    player_stats_df = pd.read_csv(os.path.join(extract_path,\"player_stats.csv\"))\n",
    "    detailed_matches_player_stats_df = pd.read_csv(os.path.join(extract_path,\"detailed_matches_player_stats.csv\"))\n",
    "    event_info_df = pd.read_csv(os.path.join(extract_path,\"event_info.csv\"))\n",
    "\n",
    "    return detailed_matches_overview_df, matches_df, player_stats_df, detailed_matches_player_stats_df, event_info_df\n",
    "\n",
    "\n"
   ]
  },
  {
   "cell_type": "markdown",
   "id": "1e1c0c08",
   "metadata": {},
   "source": [
    "### Fix the list of agents in player_stats.csv\n",
    "All agents played by the player during the tournament is not able to fetch from vlr.gg due to limited data available in player stats page"
   ]
  },
  {
   "cell_type": "code",
   "execution_count": 6,
   "id": "12233a70",
   "metadata": {},
   "outputs": [],
   "source": [
    "def fix_agents(detailed_matches_player_stats_df,player_stats_df):\n",
    "    df_agents = (\n",
    "    detailed_matches_player_stats_df\n",
    "    .assign(agent=detailed_matches_player_stats_df[\"agent\"].str.split(\",\"))      # Step 1: Split the \"agent\" column (which is a string like \"Jett, Raze\") into a list [\"Jett\", \"Raze\"] \n",
    "    .explode(\"agent\")   # Step 2: Explode the \"agent\" list so each element becomes its own row  # Example: [\"Jett\", \"Raze\"] → 2 rows: \"Jett\", \"Raze\"\n",
    "    .assign(agent=lambda x: x[\"agent\"].str.strip().str.title())  # Step 3: Clean the \"agent\" strings → remove extra spaces and make them Title Case  \n",
    "    )\n",
    "\n",
    "    player_agent = (\n",
    "    df_agents\n",
    "    .groupby(\"player_id\")[\"agent\"]  # group agents by player id\n",
    "    .unique()                       # keep only unique agents - .unique() function returns a NumPy array, not a Python list.\n",
    "    .apply(list)                    # convert numpy arrays to lists\n",
    "    .to_dict()                       # final dictionary {player_id: [agents]}\n",
    "    )\n",
    "\n",
    "        # Only insert if column does not already exist\n",
    "    if \"agents\" not in player_stats_df.columns:\n",
    "        player_stats_df.insert(6, \"agents\", player_stats_df[\"player_id\"].map(player_agent))\n",
    "    else:\n",
    "        # If exists, update values\n",
    "        player_stats_df[\"agents\"] = player_stats_df[\"player_id\"].map(player_agent)\n",
    "\n",
    "    return player_stats_df\n"
   ]
  },
  {
   "cell_type": "markdown",
   "id": "df6637f9",
   "metadata": {},
   "source": [
    "### Drop unnecessary columns"
   ]
  },
  {
   "cell_type": "code",
   "execution_count": 7,
   "id": "3a604200",
   "metadata": {},
   "outputs": [],
   "source": [
    "def drop_columns(detailed_matches_overview_df, matches_df, player_stats_df, event_info_df):\n",
    "    detailed_matches_overview_df = detailed_matches_overview_df.drop(columns = [\"match_url\"], errors = \"ignore\")\n",
    "    matches_df = matches_df.drop(columns = [\"match_url\",\"scraped_at\"], errors = \"ignore\")\n",
    "    event_info_df = event_info_df.drop(columns = [\"scraped_at\"], errors = \"ignore\")\n",
    "    player_stats_df = player_stats_df.drop(columns=[\"agents_played\",\"agents_display\",\"player_url\",\"scraped_at\"], errors = 'ignore')\n",
    "\n",
    "    return detailed_matches_overview_df, matches_df, player_stats_df, event_info_df"
   ]
  },
  {
   "cell_type": "markdown",
   "id": "e37424a7",
   "metadata": {},
   "source": [
    "### Save the changes to csv files in output folder "
   ]
  },
  {
   "cell_type": "code",
   "execution_count": 8,
   "id": "9d48a915",
   "metadata": {},
   "outputs": [],
   "source": [
    "def save_csv(detailed_matches_overview_df, matches_df, player_stats_df, event_info_df,extract_path):\n",
    "    player_stats_df.to_csv(os.path.join(extract_path,\"player_stats.csv\"), index = False)\n",
    "    event_info_df.to_csv(os.path.join(extract_path,\"event_info.csv\"), index = False)\n",
    "    detailed_matches_overview_df.to_csv(os.path.join(extract_path,\"detailed_matches_overview.csv\"), index = False)\n",
    "    matches_df.to_csv(os.path.join(extract_path,\"matches.csv\"), index = False)"
   ]
  },
  {
   "cell_type": "markdown",
   "id": "da90a027",
   "metadata": {},
   "source": [
    "### Calling above functions"
   ]
  },
  {
   "cell_type": "code",
   "execution_count": 9,
   "id": "cc98c464",
   "metadata": {},
   "outputs": [
    {
     "name": "stdout",
     "output_type": "stream",
     "text": [
      "\n",
      "Processing extracted zip files...\n",
      "\n",
      "🔹 Processing folder: Output\\Valorant Masters Bangkok 2025_csvs\n",
      "\n",
      "✅ All extracted zip files processed individually.\n"
     ]
    }
   ],
   "source": [
    "# Process extracted zip files\n",
    "print(\"\\nProcessing extracted zip files...\\n\")\n",
    "\n",
    "for f in selected_files:\n",
    "    # Path of the extracted folder\n",
    "    extract_path = os.path.join(output_folder, os.path.splitext(f)[0])\n",
    "    print(f\"🔹 Processing folder: {extract_path}\")\n",
    "\n",
    "    # Load data from the specific folder for this tournament\n",
    "    detailed_matches_overview_df, matches_df, player_stats_df, detailed_matches_player_stats_df, event_info_df = load_csv(extract_path)\n",
    "\n",
    "    # Process The tournament data\n",
    "    player_stats_df = fix_agents(detailed_matches_player_stats_df,player_stats_df)\n",
    "    detailed_matches_overview_df, matches_df,player_stats_df,event_info_df = drop_columns(detailed_matches_overview_df, matches_df, player_stats_df, event_info_df)\n",
    "    \n",
    "    # Save the changes in CSV\n",
    "    save_csv(detailed_matches_overview_df, matches_df, player_stats_df, event_info_df, extract_path)\n",
    "        \n",
    "\n",
    "print(\"\\n✅ All extracted zip files processed individually.\")\n"
   ]
  },
  {
   "cell_type": "code",
   "execution_count": null,
   "id": "75f6aa0e",
   "metadata": {},
   "outputs": [],
   "source": []
  }
 ],
 "metadata": {
  "kernelspec": {
   "display_name": "Python 3",
   "language": "python",
   "name": "python3"
  },
  "language_info": {
   "codemirror_mode": {
    "name": "ipython",
    "version": 3
   },
   "file_extension": ".py",
   "mimetype": "text/x-python",
   "name": "python",
   "nbconvert_exporter": "python",
   "pygments_lexer": "ipython3",
   "version": "3.12.11"
  }
 },
 "nbformat": 4,
 "nbformat_minor": 5
}
